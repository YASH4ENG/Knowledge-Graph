{
 "cells": [
  {
   "cell_type": "code",
   "execution_count": 3,
   "metadata": {},
   "outputs": [],
   "source": [
    "import requests"
   ]
  },
  {
   "cell_type": "code",
   "execution_count": 2,
   "metadata": {},
   "outputs": [],
   "source": [
    "import numpy as np\n"
   ]
  },
  {
   "cell_type": "code",
   "execution_count": 4,
   "metadata": {},
   "outputs": [
    {
     "name": "stdout",
     "output_type": "stream",
     "text": [
      "Requirement already satisfied: tensorflow<2.0,>=1.14.0 in c:\\users\\yashaswi\\anaconda3\\lib\\site-packages (1.15.2)\n",
      "Requirement already satisfied: google-pasta>=0.1.6 in c:\\users\\yashaswi\\anaconda3\\lib\\site-packages (from tensorflow<2.0,>=1.14.0) (0.2.0)\n",
      "Requirement already satisfied: keras-preprocessing>=1.0.5 in c:\\users\\yashaswi\\anaconda3\\lib\\site-packages (from tensorflow<2.0,>=1.14.0) (1.1.0)\n",
      "Requirement already satisfied: tensorflow-estimator==1.15.1 in c:\\users\\yashaswi\\anaconda3\\lib\\site-packages (from tensorflow<2.0,>=1.14.0) (1.15.1)\n",
      "Requirement already satisfied: gast==0.2.2 in c:\\users\\yashaswi\\anaconda3\\lib\\site-packages (from tensorflow<2.0,>=1.14.0) (0.2.2)\n",
      "Requirement already satisfied: keras-applications>=1.0.8 in c:\\users\\yashaswi\\anaconda3\\lib\\site-packages (from tensorflow<2.0,>=1.14.0) (1.0.8)\n",
      "Requirement already satisfied: absl-py>=0.7.0 in c:\\users\\yashaswi\\anaconda3\\lib\\site-packages (from tensorflow<2.0,>=1.14.0) (0.9.0)\n",
      "Requirement already satisfied: wheel>=0.26; python_version >= \"3\" in c:\\users\\yashaswi\\anaconda3\\lib\\site-packages (from tensorflow<2.0,>=1.14.0) (0.34.2)\n",
      "Requirement already satisfied: grpcio>=1.8.6 in c:\\users\\yashaswi\\anaconda3\\lib\\site-packages (from tensorflow<2.0,>=1.14.0) (1.27.2)\n",
      "Requirement already satisfied: protobuf>=3.6.1 in c:\\users\\yashaswi\\anaconda3\\lib\\site-packages (from tensorflow<2.0,>=1.14.0) (3.11.3)\n",
      "Requirement already satisfied: termcolor>=1.1.0 in c:\\users\\yashaswi\\anaconda3\\lib\\site-packages (from tensorflow<2.0,>=1.14.0) (1.1.0)\n",
      "Requirement already satisfied: wrapt>=1.11.1 in c:\\users\\yashaswi\\anaconda3\\lib\\site-packages (from tensorflow<2.0,>=1.14.0) (1.11.2)\n",
      "Requirement already satisfied: opt-einsum>=2.3.2 in c:\\users\\yashaswi\\anaconda3\\lib\\site-packages (from tensorflow<2.0,>=1.14.0) (3.2.0)\n",
      "Requirement already satisfied: six>=1.10.0 in c:\\users\\yashaswi\\anaconda3\\lib\\site-packages (from tensorflow<2.0,>=1.14.0) (1.14.0)\n",
      "Requirement already satisfied: astor>=0.6.0 in c:\\users\\yashaswi\\anaconda3\\lib\\site-packages (from tensorflow<2.0,>=1.14.0) (0.8.1)\n",
      "Requirement already satisfied: tensorboard<1.16.0,>=1.15.0 in c:\\users\\yashaswi\\anaconda3\\lib\\site-packages (from tensorflow<2.0,>=1.14.0) (1.15.0)\n",
      "Requirement already satisfied: numpy<2.0,>=1.16.0 in c:\\users\\yashaswi\\anaconda3\\lib\\site-packages (from tensorflow<2.0,>=1.14.0) (1.18.1)\n",
      "Requirement already satisfied: h5py in c:\\users\\yashaswi\\anaconda3\\lib\\site-packages (from keras-applications>=1.0.8->tensorflow<2.0,>=1.14.0) (2.10.0)\n",
      "Requirement already satisfied: setuptools in c:\\users\\yashaswi\\anaconda3\\lib\\site-packages (from protobuf>=3.6.1->tensorflow<2.0,>=1.14.0) (45.2.0.post20200210)\n",
      "Requirement already satisfied: markdown>=2.6.8 in c:\\users\\yashaswi\\anaconda3\\lib\\site-packages (from tensorboard<1.16.0,>=1.15.0->tensorflow<2.0,>=1.14.0) (3.2.1)\n",
      "Requirement already satisfied: werkzeug>=0.11.15 in c:\\users\\yashaswi\\anaconda3\\lib\\site-packages (from tensorboard<1.16.0,>=1.15.0->tensorflow<2.0,>=1.14.0) (1.0.0)\n"
     ]
    }
   ],
   "source": [
    "!pip install \"tensorflow>=1.14.0,<2.0\""
   ]
  },
  {
   "cell_type": "code",
   "execution_count": 5,
   "metadata": {},
   "outputs": [
    {
     "name": "stdout",
     "output_type": "stream",
     "text": [
      "Requirement already satisfied: tensorflow-gpu<2.0,>=1.14.0 in c:\\users\\yashaswi\\anaconda3\\lib\\site-packages (1.15.2)\n",
      "Requirement already satisfied: wrapt>=1.11.1 in c:\\users\\yashaswi\\anaconda3\\lib\\site-packages (from tensorflow-gpu<2.0,>=1.14.0) (1.11.2)\n",
      "Requirement already satisfied: tensorflow-estimator==1.15.1 in c:\\users\\yashaswi\\anaconda3\\lib\\site-packages (from tensorflow-gpu<2.0,>=1.14.0) (1.15.1)\n",
      "Requirement already satisfied: gast==0.2.2 in c:\\users\\yashaswi\\anaconda3\\lib\\site-packages (from tensorflow-gpu<2.0,>=1.14.0) (0.2.2)\n",
      "Requirement already satisfied: wheel>=0.26; python_version >= \"3\" in c:\\users\\yashaswi\\anaconda3\\lib\\site-packages (from tensorflow-gpu<2.0,>=1.14.0) (0.34.2)\n",
      "Requirement already satisfied: termcolor>=1.1.0 in c:\\users\\yashaswi\\anaconda3\\lib\\site-packages (from tensorflow-gpu<2.0,>=1.14.0) (1.1.0)\n",
      "Requirement already satisfied: astor>=0.6.0 in c:\\users\\yashaswi\\anaconda3\\lib\\site-packages (from tensorflow-gpu<2.0,>=1.14.0) (0.8.1)\n",
      "Requirement already satisfied: keras-preprocessing>=1.0.5 in c:\\users\\yashaswi\\anaconda3\\lib\\site-packages (from tensorflow-gpu<2.0,>=1.14.0) (1.1.0)\n",
      "Requirement already satisfied: six>=1.10.0 in c:\\users\\yashaswi\\anaconda3\\lib\\site-packages (from tensorflow-gpu<2.0,>=1.14.0) (1.14.0)\n",
      "Requirement already satisfied: grpcio>=1.8.6 in c:\\users\\yashaswi\\anaconda3\\lib\\site-packages (from tensorflow-gpu<2.0,>=1.14.0) (1.27.2)\n",
      "Requirement already satisfied: protobuf>=3.6.1 in c:\\users\\yashaswi\\anaconda3\\lib\\site-packages (from tensorflow-gpu<2.0,>=1.14.0) (3.11.3)\n",
      "Requirement already satisfied: keras-applications>=1.0.8 in c:\\users\\yashaswi\\anaconda3\\lib\\site-packages (from tensorflow-gpu<2.0,>=1.14.0) (1.0.8)\n",
      "Requirement already satisfied: google-pasta>=0.1.6 in c:\\users\\yashaswi\\anaconda3\\lib\\site-packages (from tensorflow-gpu<2.0,>=1.14.0) (0.2.0)\n",
      "Requirement already satisfied: absl-py>=0.7.0 in c:\\users\\yashaswi\\anaconda3\\lib\\site-packages (from tensorflow-gpu<2.0,>=1.14.0) (0.9.0)\n",
      "Requirement already satisfied: numpy<2.0,>=1.16.0 in c:\\users\\yashaswi\\anaconda3\\lib\\site-packages (from tensorflow-gpu<2.0,>=1.14.0) (1.18.1)\n",
      "Requirement already satisfied: tensorboard<1.16.0,>=1.15.0 in c:\\users\\yashaswi\\anaconda3\\lib\\site-packages (from tensorflow-gpu<2.0,>=1.14.0) (1.15.0)\n",
      "Requirement already satisfied: opt-einsum>=2.3.2 in c:\\users\\yashaswi\\anaconda3\\lib\\site-packages (from tensorflow-gpu<2.0,>=1.14.0) (3.2.0)\n",
      "Requirement already satisfied: setuptools in c:\\users\\yashaswi\\anaconda3\\lib\\site-packages (from protobuf>=3.6.1->tensorflow-gpu<2.0,>=1.14.0) (45.2.0.post20200210)\n",
      "Requirement already satisfied: h5py in c:\\users\\yashaswi\\anaconda3\\lib\\site-packages (from keras-applications>=1.0.8->tensorflow-gpu<2.0,>=1.14.0) (2.10.0)\n",
      "Requirement already satisfied: werkzeug>=0.11.15 in c:\\users\\yashaswi\\anaconda3\\lib\\site-packages (from tensorboard<1.16.0,>=1.15.0->tensorflow-gpu<2.0,>=1.14.0) (1.0.0)\n",
      "Requirement already satisfied: markdown>=2.6.8 in c:\\users\\yashaswi\\anaconda3\\lib\\site-packages (from tensorboard<1.16.0,>=1.15.0->tensorflow-gpu<2.0,>=1.14.0) (3.2.1)\n"
     ]
    }
   ],
   "source": [
    "!pip install \"tensorflow-gpu>=1.14.0,<2.0\""
   ]
  },
  {
   "cell_type": "code",
   "execution_count": 6,
   "metadata": {},
   "outputs": [],
   "source": [
    "import ampligraph"
   ]
  },
  {
   "cell_type": "code",
   "execution_count": 7,
   "metadata": {},
   "outputs": [
    {
     "data": {
      "text/plain": [
       "'1.3.1'"
      ]
     },
     "execution_count": 7,
     "metadata": {},
     "output_type": "execute_result"
    }
   ],
   "source": [
    "ampligraph.__version__"
   ]
  },
  {
   "cell_type": "code",
   "execution_count": 29,
   "metadata": {},
   "outputs": [],
   "source": [
    "import pandas as pd"
   ]
  },
  {
   "cell_type": "code",
   "execution_count": 30,
   "metadata": {},
   "outputs": [],
   "source": [
    "import numpy as np"
   ]
  },
  {
   "cell_type": "code",
   "execution_count": 28,
   "metadata": {},
   "outputs": [],
   "source": [
    "from ampligraph.datasets import load_from_ntriples"
   ]
  },
  {
   "cell_type": "code",
   "execution_count": 38,
   "metadata": {},
   "outputs": [],
   "source": [
    " X=load_from_ntriples('reverb_wikipedia_tuples-1.1.txt','reverb_wikipedia_tuples-1.1.txt', data_home=None, add_reciprocal_rels=False)"
   ]
  },
  {
   "cell_type": "code",
   "execution_count": 40,
   "metadata": {},
   "outputs": [
    {
     "name": "stdout",
     "output_type": "stream",
     "text": [
      "[['625\\t$' '10\\twas' 'deducted']\n",
      " ['705\\t$' '10,000\\tcame' 'from\\tJ.J.\\t$']\n",
      " ['1007\\t$' '13.8' 'million\\thad']\n",
      " ...\n",
      " ['14807002\\tzinc' 'concentrate\\tnormally' 'contains\\tzinc']\n",
      " ['14807118\\tzone' '3\\tis' 'north']\n",
      " ['14807208\\tzwieback\\twas' 'produced' 'in\\tFriedrichsdorf\\tzwieback\\tbe']]\n"
     ]
    }
   ],
   "source": [
    "print(X)"
   ]
  },
  {
   "cell_type": "code",
   "execution_count": 44,
   "metadata": {},
   "outputs": [],
   "source": [
    "from ampligraph.evaluation import train_test_split_no_unseen "
   ]
  },
  {
   "cell_type": "code",
   "execution_count": 45,
   "metadata": {},
   "outputs": [
    {
     "ename": "TypeError",
     "evalue": "'<' not supported between instances of 'float' and 'str'",
     "output_type": "error",
     "traceback": [
      "\u001b[1;31m---------------------------------------------------------------------------\u001b[0m",
      "\u001b[1;31mTypeError\u001b[0m                                 Traceback (most recent call last)",
      "\u001b[1;32m<ipython-input-45-44ad1e0c72aa>\u001b[0m in \u001b[0;36m<module>\u001b[1;34m\u001b[0m\n\u001b[1;32m----> 1\u001b[1;33m \u001b[0mX_train\u001b[0m\u001b[1;33m,\u001b[0m \u001b[0mX_test\u001b[0m \u001b[1;33m=\u001b[0m \u001b[0mtrain_test_split_no_unseen\u001b[0m\u001b[1;33m(\u001b[0m\u001b[0mX\u001b[0m\u001b[1;33m,\u001b[0m \u001b[0mtest_size\u001b[0m\u001b[1;33m=\u001b[0m\u001b[1;36m100\u001b[0m\u001b[1;33m)\u001b[0m\u001b[1;33m\u001b[0m\u001b[1;33m\u001b[0m\u001b[0m\n\u001b[0m",
      "\u001b[1;32m~\\anaconda3\\lib\\site-packages\\ampligraph\\evaluation\\protocol.py\u001b[0m in \u001b[0;36mtrain_test_split_no_unseen\u001b[1;34m(X, test_size, seed, allow_duplication)\u001b[0m\n\u001b[0;32m    105\u001b[0m \u001b[1;33m\u001b[0m\u001b[0m\n\u001b[0;32m    106\u001b[0m     \u001b[0msubs\u001b[0m\u001b[1;33m,\u001b[0m \u001b[0msubs_cnt\u001b[0m \u001b[1;33m=\u001b[0m \u001b[0mnp\u001b[0m\u001b[1;33m.\u001b[0m\u001b[0munique\u001b[0m\u001b[1;33m(\u001b[0m\u001b[0mX\u001b[0m\u001b[1;33m[\u001b[0m\u001b[1;33m:\u001b[0m\u001b[1;33m,\u001b[0m \u001b[1;36m0\u001b[0m\u001b[1;33m]\u001b[0m\u001b[1;33m,\u001b[0m \u001b[0mreturn_counts\u001b[0m\u001b[1;33m=\u001b[0m\u001b[1;32mTrue\u001b[0m\u001b[1;33m)\u001b[0m\u001b[1;33m\u001b[0m\u001b[1;33m\u001b[0m\u001b[0m\n\u001b[1;32m--> 107\u001b[1;33m     \u001b[0mobjs\u001b[0m\u001b[1;33m,\u001b[0m \u001b[0mobjs_cnt\u001b[0m \u001b[1;33m=\u001b[0m \u001b[0mnp\u001b[0m\u001b[1;33m.\u001b[0m\u001b[0munique\u001b[0m\u001b[1;33m(\u001b[0m\u001b[0mX\u001b[0m\u001b[1;33m[\u001b[0m\u001b[1;33m:\u001b[0m\u001b[1;33m,\u001b[0m \u001b[1;36m2\u001b[0m\u001b[1;33m]\u001b[0m\u001b[1;33m,\u001b[0m \u001b[0mreturn_counts\u001b[0m\u001b[1;33m=\u001b[0m\u001b[1;32mTrue\u001b[0m\u001b[1;33m)\u001b[0m\u001b[1;33m\u001b[0m\u001b[1;33m\u001b[0m\u001b[0m\n\u001b[0m\u001b[0;32m    108\u001b[0m     \u001b[0mrels\u001b[0m\u001b[1;33m,\u001b[0m \u001b[0mrels_cnt\u001b[0m \u001b[1;33m=\u001b[0m \u001b[0mnp\u001b[0m\u001b[1;33m.\u001b[0m\u001b[0munique\u001b[0m\u001b[1;33m(\u001b[0m\u001b[0mX\u001b[0m\u001b[1;33m[\u001b[0m\u001b[1;33m:\u001b[0m\u001b[1;33m,\u001b[0m \u001b[1;36m1\u001b[0m\u001b[1;33m]\u001b[0m\u001b[1;33m,\u001b[0m \u001b[0mreturn_counts\u001b[0m\u001b[1;33m=\u001b[0m\u001b[1;32mTrue\u001b[0m\u001b[1;33m)\u001b[0m\u001b[1;33m\u001b[0m\u001b[1;33m\u001b[0m\u001b[0m\n\u001b[0;32m    109\u001b[0m     \u001b[0mdict_subs\u001b[0m \u001b[1;33m=\u001b[0m \u001b[0mdict\u001b[0m\u001b[1;33m(\u001b[0m\u001b[0mzip\u001b[0m\u001b[1;33m(\u001b[0m\u001b[0msubs\u001b[0m\u001b[1;33m,\u001b[0m \u001b[0msubs_cnt\u001b[0m\u001b[1;33m)\u001b[0m\u001b[1;33m)\u001b[0m\u001b[1;33m\u001b[0m\u001b[1;33m\u001b[0m\u001b[0m\n",
      "\u001b[1;32m<__array_function__ internals>\u001b[0m in \u001b[0;36munique\u001b[1;34m(*args, **kwargs)\u001b[0m\n",
      "\u001b[1;32m~\\anaconda3\\lib\\site-packages\\numpy\\lib\\arraysetops.py\u001b[0m in \u001b[0;36munique\u001b[1;34m(ar, return_index, return_inverse, return_counts, axis)\u001b[0m\n\u001b[0;32m    261\u001b[0m     \u001b[0mar\u001b[0m \u001b[1;33m=\u001b[0m \u001b[0mnp\u001b[0m\u001b[1;33m.\u001b[0m\u001b[0masanyarray\u001b[0m\u001b[1;33m(\u001b[0m\u001b[0mar\u001b[0m\u001b[1;33m)\u001b[0m\u001b[1;33m\u001b[0m\u001b[1;33m\u001b[0m\u001b[0m\n\u001b[0;32m    262\u001b[0m     \u001b[1;32mif\u001b[0m \u001b[0maxis\u001b[0m \u001b[1;32mis\u001b[0m \u001b[1;32mNone\u001b[0m\u001b[1;33m:\u001b[0m\u001b[1;33m\u001b[0m\u001b[1;33m\u001b[0m\u001b[0m\n\u001b[1;32m--> 263\u001b[1;33m         \u001b[0mret\u001b[0m \u001b[1;33m=\u001b[0m \u001b[0m_unique1d\u001b[0m\u001b[1;33m(\u001b[0m\u001b[0mar\u001b[0m\u001b[1;33m,\u001b[0m \u001b[0mreturn_index\u001b[0m\u001b[1;33m,\u001b[0m \u001b[0mreturn_inverse\u001b[0m\u001b[1;33m,\u001b[0m \u001b[0mreturn_counts\u001b[0m\u001b[1;33m)\u001b[0m\u001b[1;33m\u001b[0m\u001b[1;33m\u001b[0m\u001b[0m\n\u001b[0m\u001b[0;32m    264\u001b[0m         \u001b[1;32mreturn\u001b[0m \u001b[0m_unpack_tuple\u001b[0m\u001b[1;33m(\u001b[0m\u001b[0mret\u001b[0m\u001b[1;33m)\u001b[0m\u001b[1;33m\u001b[0m\u001b[1;33m\u001b[0m\u001b[0m\n\u001b[0;32m    265\u001b[0m \u001b[1;33m\u001b[0m\u001b[0m\n",
      "\u001b[1;32m~\\anaconda3\\lib\\site-packages\\numpy\\lib\\arraysetops.py\u001b[0m in \u001b[0;36m_unique1d\u001b[1;34m(ar, return_index, return_inverse, return_counts)\u001b[0m\n\u001b[0;32m    309\u001b[0m         \u001b[0maux\u001b[0m \u001b[1;33m=\u001b[0m \u001b[0mar\u001b[0m\u001b[1;33m[\u001b[0m\u001b[0mperm\u001b[0m\u001b[1;33m]\u001b[0m\u001b[1;33m\u001b[0m\u001b[1;33m\u001b[0m\u001b[0m\n\u001b[0;32m    310\u001b[0m     \u001b[1;32melse\u001b[0m\u001b[1;33m:\u001b[0m\u001b[1;33m\u001b[0m\u001b[1;33m\u001b[0m\u001b[0m\n\u001b[1;32m--> 311\u001b[1;33m         \u001b[0mar\u001b[0m\u001b[1;33m.\u001b[0m\u001b[0msort\u001b[0m\u001b[1;33m(\u001b[0m\u001b[1;33m)\u001b[0m\u001b[1;33m\u001b[0m\u001b[1;33m\u001b[0m\u001b[0m\n\u001b[0m\u001b[0;32m    312\u001b[0m         \u001b[0maux\u001b[0m \u001b[1;33m=\u001b[0m \u001b[0mar\u001b[0m\u001b[1;33m\u001b[0m\u001b[1;33m\u001b[0m\u001b[0m\n\u001b[0;32m    313\u001b[0m     \u001b[0mmask\u001b[0m \u001b[1;33m=\u001b[0m \u001b[0mnp\u001b[0m\u001b[1;33m.\u001b[0m\u001b[0mempty\u001b[0m\u001b[1;33m(\u001b[0m\u001b[0maux\u001b[0m\u001b[1;33m.\u001b[0m\u001b[0mshape\u001b[0m\u001b[1;33m,\u001b[0m \u001b[0mdtype\u001b[0m\u001b[1;33m=\u001b[0m\u001b[0mnp\u001b[0m\u001b[1;33m.\u001b[0m\u001b[0mbool_\u001b[0m\u001b[1;33m)\u001b[0m\u001b[1;33m\u001b[0m\u001b[1;33m\u001b[0m\u001b[0m\n",
      "\u001b[1;31mTypeError\u001b[0m: '<' not supported between instances of 'float' and 'str'"
     ]
    }
   ],
   "source": [
    "X_train, X_test = train_test_split_no_unseen(X, test_size=100) "
   ]
  },
  {
   "cell_type": "code",
   "execution_count": null,
   "metadata": {},
   "outputs": [],
   "source": []
  }
 ],
 "metadata": {
  "kernelspec": {
   "display_name": "Python 3",
   "language": "python",
   "name": "python3"
  },
  "language_info": {
   "codemirror_mode": {
    "name": "ipython",
    "version": 3
   },
   "file_extension": ".py",
   "mimetype": "text/x-python",
   "name": "python",
   "nbconvert_exporter": "python",
   "pygments_lexer": "ipython3",
   "version": "3.7.6"
  }
 },
 "nbformat": 4,
 "nbformat_minor": 4
}
